{
 "cells": [
  {
   "cell_type": "code",
   "execution_count": 142,
   "metadata": {},
   "outputs": [],
   "source": [
    "from helpers import load_fashion_dataset, binarize_image\n",
    "X_train, X_test = load_fashion_dataset()\n",
    "\n",
    "N_STORED_PATTERNS = 4"
   ]
  },
  {
   "cell_type": "code",
   "execution_count": 149,
   "metadata": {},
   "outputs": [
    {
     "data": {
      "image/png": "[encoded data removed]",
      "text/plain": [
       "<Figure size 800x400 with 2 Axes>"
      ]
     },
     "metadata": {},
     "output_type": "display_data"
    }
   ],
   "source": [
    "import matplotlib.pyplot as plt\n",
    "import numpy as np\n",
    "stored_patterns_indices = np.random.choice(len(X_train), N_STORED_PATTERNS, replace=False)\n",
    "stored_patterns = X_train[stored_patterns_indices][\"image\"]\n",
    "stored_patterns_binary = np.array([x.flatten() for x in binarize_image(stored_patterns)])\n",
    "\n",
    "sample_pattern = stored_patterns[1]\n",
    "sample_pattern_binary = stored_patterns_binary[1].reshape(28,28)\n",
    "\n",
    "fig, axes = plt.subplots(1, 2, figsize=(8, 4))\n",
    "\n",
    "# left: Original image\n",
    "axes[0].imshow(sample_pattern)\n",
    "axes[0].set_title(\"Original\")\n",
    "axes[0].axis('off')\n",
    "\n",
    "# right: Binarized Image\n",
    "axes[1].imshow(sample_pattern_binary)\n",
    "axes[1].set_title(\"Binary\")\n",
    "axes[1].axis('off')\n",
    "\n",
    "plt.show()"
   ]
  },
  {
   "cell_type": "code",
   "execution_count": 150,
   "metadata": {},
   "outputs": [
    {
     "name": "stdout",
     "output_type": "stream",
     "text": [
      "[[0.         0.00510204 0.00510204 ... 0.00510204 0.00510204 0.00510204]\n",
      " [0.00510204 0.         0.00510204 ... 0.00510204 0.00510204 0.00510204]\n",
      " [0.00510204 0.00510204 0.         ... 0.00510204 0.00510204 0.00510204]\n",
      " ...\n",
      " [0.00510204 0.00510204 0.00510204 ... 0.         0.00510204 0.00510204]\n",
      " [0.00510204 0.00510204 0.00510204 ... 0.00510204 0.         0.00510204]\n",
      " [0.00510204 0.00510204 0.00510204 ... 0.00510204 0.00510204 0.        ]]\n"
     ]
    }
   ],
   "source": [
    "from Hopfield import Hopfield\n",
    "from utils.activation_functions import sgn\n",
    "n_neurons = len(stored_patterns_binary[0])\n",
    "hopfield_network = Hopfield(activation_function=sgn, n_neurons=n_neurons)\n",
    "\n",
    "hopfield_network.bind(stored_patterns_binary)\n",
    "print(hopfield_network.W)\n"
   ]
  },
  {
   "cell_type": "code",
   "execution_count": 151,
   "metadata": {},
   "outputs": [
    {
     "name": "stdout",
     "output_type": "stream",
     "text": [
      "The network successfully retrieved the correct pattern. Equilibrium state is 92.86% similar to the stored pattern \n"
     ]
    }
   ],
   "source": [
    "from helpers import add_noise_classical\n",
    "from utils.metrics import similarity\n",
    "test_state = stored_patterns_binary[np.random.randint(0, N_STORED_PATTERNS)]\n",
    "# Something weird. even if noise_level is set to 0, the network still can't retrieve some patterns\n",
    "# Maybe correlations between saved patterns? To do: build correlation map between stored patterns\n",
    "# Retrieval accuracy remains constant as you reach a certain noise_level. Decreasing the noise_level anywhere below of that value\n",
    "# will not yield any better retrieval accuracy. It reflects cross-talk interferencen between stored patterns. To do: retrieval accuracy vs noise_level\n",
    "# To do: number of correct recalls vs number stored patterns\n",
    "noisy_test_state = add_noise_classical(test_state, noise_level=0.25) \n",
    "\n",
    "\n",
    "retrieved_image, closest_stored_pattern = hopfield_network.retrieve(noisy_test_state, synchrous=True, n_iterations=1000) # Synchrous iterations converge faster than asynchrous\n",
    "\n",
    "is_correct = (similarity(closest_stored_pattern, test_state) == 1)\n",
    "if is_correct:\n",
    "    similar = similarity(retrieved_image, test_state)\n",
    "    print(f\"The network successfully retrieved the correct pattern. Equilibrium state is {similar * 100:.2f}% similar to the stored pattern \")\n",
    "else:\n",
    "    print('The network retrieved the wrong pattern!')\n"
   ]
  },
  {
   "cell_type": "code",
   "execution_count": 152,
   "metadata": {},
   "outputs": [
    {
     "data": {
      "image/png": "[encoded data removed]",
      "text/plain": [
       "<Figure size 1200x800 with 3 Axes>"
      ]
     },
     "metadata": {},
     "output_type": "display_data"
    }
   ],
   "source": [
    "import matplotlib.pyplot as plt\n",
    "retrieved_image = retrieved_image.reshape(28, 28)\n",
    "closest_stored_pattern = closest_stored_pattern.reshape(28, 28)\n",
    "# create a figure with 1 row and 2 columns\n",
    "fig, axes = plt.subplots(1, 3, figsize=(12, 8))\n",
    "\n",
    "# left: retrieved pattern\n",
    "axes[0].imshow(retrieved_image)\n",
    "axes[0].set_title(\"Retrieved\")\n",
    "axes[0].axis('off')\n",
    "\n",
    "# middle: predicted closest stored pattern\n",
    "axes[1].imshow(closest_stored_pattern)\n",
    "axes[1].set_title(\"Closest Pattern\")\n",
    "axes[1].axis('off')\n",
    "\n",
    "# right: original sample\n",
    "axes[2].imshow(test_state.reshape(28, 28))\n",
    "axes[2].set_title(\"Original\")\n",
    "axes[2].axis('off')\n",
    "\n",
    "\n",
    "plt.show()"
   ]
  }
 ],
 "metadata": {
  "kernelspec": {
   "display_name": "Python 3",
   "language": "python",
   "name": "python3"
  },
  "language_info": {
   "codemirror_mode": {
    "name": "ipython",
    "version": 3
   },
   "file_extension": ".py",
   "mimetype": "text/x-python",
   "name": "python",
   "nbconvert_exporter": "python",
   "pygments_lexer": "ipython3",
   "version": "3.12.7"
  },
  "orig_nbformat": 4
 },
 "nbformat": 4,
 "nbformat_minor": 2
}
