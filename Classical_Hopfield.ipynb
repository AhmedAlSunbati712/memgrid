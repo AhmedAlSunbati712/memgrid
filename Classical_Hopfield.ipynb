{
 "cells": [
  {
   "cell_type": "code",
   "execution_count": 1,
   "metadata": {},
   "outputs": [],
   "source": [
    "import numpy as np\n",
    "from Hopfield import Hopfield\n",
    "from utils.activation_functions import sgn\n",
    "\n",
    "NUMBER_NEURONS = 50\n",
    "\n",
    "hopfiled_network = Hopfield(activation_function=sgn, n_neurons=NUMBER_NEURONS)\n",
    "\n",
    "stored_pattern_A = np.random.choice([1, -1], size=NUMBER_NEURONS)\n",
    "stored_pattern_B = np.random.choice([1, -1], size=NUMBER_NEURONS)\n",
    "stored_patterns = np.array([stored_pattern_A, stored_pattern_B])"
   ]
  },
  {
   "cell_type": "code",
   "execution_count": 2,
   "metadata": {},
   "outputs": [],
   "source": [
    "hopfiled_network.bind(stored_patterns)"
   ]
  },
  {
   "cell_type": "code",
   "execution_count": 3,
   "metadata": {},
   "outputs": [
    {
     "name": "stdout",
     "output_type": "stream",
     "text": [
      "[[ 0. -2.  2. ...  2.  0.  0.]\n",
      " [-2.  0. -2. ... -2.  0.  0.]\n",
      " [ 2. -2.  0. ...  2.  0.  0.]\n",
      " ...\n",
      " [ 2. -2.  2. ...  0.  0.  0.]\n",
      " [ 0.  0.  0. ...  0.  0. -2.]\n",
      " [ 0.  0.  0. ...  0. -2.  0.]]\n"
     ]
    }
   ],
   "source": [
    "print(hopfiled_network.W)"
   ]
  },
  {
   "cell_type": "code",
   "execution_count": 4,
   "metadata": {},
   "outputs": [
    {
     "name": "stdout",
     "output_type": "stream",
     "text": [
      "[0.9999999999999999, -0.07999999999999999]\n",
      "[-0.07999999999999999, 0.9999999999999999]\n",
      "\n",
      "Synchronous Retrieval Results:\n",
      "Retrieved A: [ 1 -1  1 -1 -1  1 -1  1 -1  1  1 -1  1  1 -1 -1 -1 -1 -1 -1  1  1  1 -1\n",
      " -1 -1 -1  1  1 -1  1 -1 -1 -1 -1  1  1  1  1 -1  1  1  1 -1  1 -1 -1  1\n",
      "  1 -1]\n",
      "Closest stored pattern to A: [ 1 -1  1 -1 -1  1 -1  1 -1  1  1 -1  1  1 -1 -1 -1 -1 -1 -1  1  1  1 -1\n",
      " -1 -1 -1  1  1 -1  1 -1 -1 -1 -1  1  1  1  1 -1  1  1  1 -1  1 -1 -1  1\n",
      "  1 -1]\n",
      "Retrieved B: [-1  1 -1  1  1 -1 -1  1  1 -1  1 -1 -1  1  1  1 -1 -1  1  1  1 -1  1 -1\n",
      " -1  1 -1  1 -1  1 -1 -1  1  1  1  1 -1  1 -1 -1 -1  1 -1 -1  1  1 -1 -1\n",
      "  1 -1]\n",
      "Closest stored pattern to B: [-1  1 -1  1  1 -1 -1  1  1 -1  1 -1 -1  1  1  1 -1 -1  1  1  1 -1  1 -1\n",
      " -1  1 -1  1 -1  1 -1 -1  1  1  1  1 -1  1 -1 -1 -1  1 -1 -1  1  1 -1 -1\n",
      "  1 -1]\n"
     ]
    }
   ],
   "source": [
    "def add_noise(pattern, noise_level=0.25):\n",
    "    \"\"\"Flip a fraction of bits in the pattern.\"\"\"\n",
    "    noisy = pattern.copy()\n",
    "    n_flips = int(noise_level * len(pattern))\n",
    "    flip_indices = np.random.choice(len(pattern), n_flips, replace=False)\n",
    "    noisy[flip_indices] *= -1\n",
    "    return noisy\n",
    "test_A_noisy = add_noise(stored_pattern_A)\n",
    "test_B_noisy = add_noise(stored_pattern_B)\n",
    "\n",
    "retrieved_A, closest_A = hopfiled_network.retrieve(test_A_noisy, synchrous=True, n_iterations=10)\n",
    "retrieved_B, closest_B = hopfiled_network.retrieve(test_B_noisy, synchrous=True, n_iterations=10)\n",
    "\n",
    "print(\"\\nSynchronous Retrieval Results:\")\n",
    "print(\"Retrieved A:\", retrieved_A)\n",
    "print(\"Closest stored pattern to A:\", closest_A)\n",
    "print(\"Retrieved B:\", retrieved_B)\n",
    "print(\"Closest stored pattern to B:\", closest_B)"
   ]
  },
  {
   "cell_type": "code",
   "execution_count": 6,
   "metadata": {},
   "outputs": [
    {
     "name": "stdout",
     "output_type": "stream",
     "text": [
      "(10000, 2)\n"
     ]
    }
   ],
   "source": [
    "from datasets import load_dataset\n",
    "import matplotlib.pyplot as plt\n",
    "\n",
    "dataset = load_dataset(\"fashion_mnist\", split = \"test\").shuffle(seed = 999)\n"
   ]
  },
  {
   "cell_type": "code",
   "execution_count": 59,
   "metadata": {},
   "outputs": [
    {
     "name": "stdout",
     "output_type": "stream",
     "text": [
      "<PIL.PngImagePlugin.PngImageFile image mode=L size=28x28 at 0x306FC49B0>\n"
     ]
    },
    {
     "data": {
      "image/png": "[encoded data removed]",
      "text/plain": [
       "<Figure size 640x480 with 1 Axes>"
      ]
     },
     "metadata": {},
     "output_type": "display_data"
    }
   ],
   "source": [
    "import matplotlib.pyplot as plt\n",
    "print(dataset[0]['image'])\n",
    "plt.imshow(dataset[5]['image'].convert(\"1\"))\n",
    "plt.show()"
   ]
  },
  {
   "cell_type": "code",
   "execution_count": 60,
   "metadata": {},
   "outputs": [],
   "source": [
    "stored_patterns = dataset[:5]['image']\n",
    "stored_patterns_binary = []   # start as a Python list\n",
    "\n",
    "for pattern in stored_patterns:\n",
    "    # convert PIL image to NumPy array of 0/1\n",
    "    state = np.asarray(pattern.convert(\"1\"), dtype=int)\n",
    "    # map 0 → -1, 1 → +1\n",
    "    state = state * 2 - 1\n",
    "    # flatten to 1D vector\n",
    "    state = state.flatten()\n",
    "    stored_patterns_binary.append(state)\n",
    "\n",
    "# finally convert to NumPy array if you want\n",
    "stored_patterns_binary = np.array(stored_patterns_binary)\n"
   ]
  },
  {
   "cell_type": "code",
   "execution_count": 63,
   "metadata": {},
   "outputs": [],
   "source": [
    "n_neurons = len(stored_patterns_binary[0])\n",
    "hopfield_network = Hopfield(activation_function=sgn, n_neurons=n_neurons)\n"
   ]
  },
  {
   "cell_type": "code",
   "execution_count": 64,
   "metadata": {},
   "outputs": [
    {
     "name": "stdout",
     "output_type": "stream",
     "text": [
      "[[0. 0. 0. ... 0. 0. 0.]\n",
      " [0. 0. 0. ... 0. 0. 0.]\n",
      " [0. 0. 0. ... 0. 0. 0.]\n",
      " ...\n",
      " [0. 0. 0. ... 0. 0. 0.]\n",
      " [0. 0. 0. ... 0. 0. 0.]\n",
      " [0. 0. 0. ... 0. 0. 0.]]\n"
     ]
    }
   ],
   "source": [
    "print(hopfield_network.W)\n",
    "hopfield_network.bind(stored_patterns_binary)"
   ]
  },
  {
   "cell_type": "code",
   "execution_count": 65,
   "metadata": {},
   "outputs": [
    {
     "name": "stdout",
     "output_type": "stream",
     "text": [
      "[[0. 5. 5. ... 5. 5. 5.]\n",
      " [5. 0. 5. ... 5. 5. 5.]\n",
      " [5. 5. 0. ... 5. 5. 5.]\n",
      " ...\n",
      " [5. 5. 5. ... 0. 5. 5.]\n",
      " [5. 5. 5. ... 5. 0. 5.]\n",
      " [5. 5. 5. ... 5. 5. 0.]]\n"
     ]
    }
   ],
   "source": [
    "print(hopfield_network.W)"
   ]
  },
  {
   "cell_type": "code",
   "execution_count": 66,
   "metadata": {},
   "outputs": [
    {
     "name": "stdout",
     "output_type": "stream",
     "text": [
      "Sample Test:  [-1 -1 -1 -1 -1 -1 -1 -1 -1 -1 -1 -1 -1 -1 -1 -1 -1 -1 -1 -1 -1 -1 -1 -1\n",
      " -1 -1 -1 -1 -1 -1 -1 -1 -1 -1 -1 -1 -1 -1 -1 -1 -1 -1 -1 -1 -1 -1 -1 -1\n",
      " -1 -1 -1 -1 -1 -1 -1 -1 -1 -1 -1 -1 -1 -1 -1 -1 -1 -1 -1 -1 -1 -1 -1 -1\n",
      " -1 -1 -1 -1 -1 -1 -1 -1 -1 -1 -1 -1 -1 -1 -1 -1 -1 -1 -1 -1 -1 -1 -1 -1\n",
      " -1 -1 -1 -1 -1 -1 -1 -1 -1 -1 -1 -1 -1 -1 -1 -1 -1 -1 -1 -1 -1 -1 -1 -1\n",
      " -1 -1 -1 -1 -1 -1 -1 -1 -1 -1 -1 -1 -1 -1 -1 -1 -1 -1 -1 -1 -1 -1 -1 -1\n",
      " -1 -1 -1 -1 -1 -1 -1 -1 -1 -1 -1 -1 -1 -1 -1 -1 -1 -1 -1 -1 -1 -1 -1 -1\n",
      " -1 -1 -1 -1 -1 -1 -1 -1 -1 -1 -1 -1 -1 -1 -1 -1 -1 -1 -1 -1 -1 -1 -1 -1\n",
      " -1 -1 -1 -1 -1 -1 -1 -1 -1 -1 -1 -1 -1 -1 -1 -1 -1 -1 -1 -1 -1 -1 -1 -1\n",
      " -1 -1 -1 -1 -1 -1 -1 -1 -1 -1 -1 -1 -1 -1 -1 -1 -1 -1 -1 -1 -1 -1 -1 -1\n",
      " -1 -1 -1 -1 -1 -1 -1 -1 -1 -1 -1 -1 -1 -1 -1 -1 -1 -1 -1 -1 -1 -1 -1 -1\n",
      " -1  1  1  1  1  1 -1 -1 -1 -1 -1 -1 -1 -1 -1 -1 -1 -1 -1 -1 -1 -1 -1 -1\n",
      " -1 -1  1  1  1  1 -1  1 -1  1 -1 -1  1 -1  1  1  1  1 -1 -1 -1 -1 -1 -1\n",
      " -1 -1 -1 -1  1  1 -1  1 -1  1  1  1  1 -1  1  1  1  1  1 -1  1 -1  1 -1\n",
      " -1 -1 -1 -1 -1 -1 -1  1  1 -1  1 -1  1 -1 -1  1 -1  1  1  1 -1  1 -1  1\n",
      "  1  1  1 -1 -1 -1  1 -1  1  1  1 -1  1  1  1 -1 -1  1  1  1  1  1 -1  1\n",
      "  1  1  1 -1  1 -1  1 -1 -1 -1 -1 -1  1 -1  1  1 -1  1  1  1  1 -1  1 -1\n",
      "  1 -1  1  1 -1  1  1  1 -1  1  1 -1 -1 -1 -1 -1 -1 -1 -1 -1  1 -1  1  1\n",
      "  1  1  1  1  1  1  1  1  1  1  1  1  1 -1 -1 -1 -1 -1 -1 -1 -1 -1 -1 -1\n",
      " -1 -1 -1 -1 -1 -1 -1 -1 -1 -1 -1 -1 -1 -1 -1 -1 -1 -1 -1 -1 -1  1 -1  1\n",
      " -1 -1 -1 -1 -1 -1 -1 -1 -1 -1 -1 -1 -1 -1 -1 -1 -1 -1 -1 -1 -1 -1  1 -1\n",
      " -1 -1 -1 -1 -1  1 -1  1  1 -1  1 -1  1 -1  1 -1  1  1 -1  1 -1  1 -1  1\n",
      " -1  1 -1 -1 -1 -1 -1 -1 -1 -1 -1 -1 -1 -1 -1  1 -1 -1 -1 -1 -1 -1 -1 -1\n",
      " -1 -1 -1 -1 -1 -1 -1 -1 -1 -1 -1 -1 -1 -1 -1 -1 -1 -1 -1 -1 -1 -1 -1 -1\n",
      " -1 -1 -1 -1 -1 -1 -1 -1 -1 -1 -1 -1 -1 -1 -1 -1 -1 -1 -1 -1 -1 -1 -1 -1\n",
      " -1 -1 -1 -1 -1 -1 -1 -1 -1 -1 -1 -1 -1 -1 -1 -1 -1 -1 -1 -1 -1 -1 -1 -1\n",
      " -1 -1 -1 -1 -1 -1 -1 -1 -1 -1 -1 -1 -1 -1 -1 -1 -1 -1 -1 -1 -1 -1 -1 -1\n",
      " -1 -1 -1 -1 -1 -1 -1 -1 -1 -1 -1 -1 -1 -1 -1 -1 -1 -1 -1 -1 -1 -1 -1 -1\n",
      " -1 -1 -1 -1 -1 -1 -1 -1 -1 -1 -1 -1 -1 -1 -1 -1 -1 -1 -1 -1 -1 -1 -1 -1\n",
      " -1 -1 -1 -1 -1 -1 -1 -1 -1 -1 -1 -1 -1 -1 -1 -1 -1 -1 -1 -1 -1 -1 -1 -1\n",
      " -1 -1 -1 -1 -1 -1 -1 -1 -1 -1 -1 -1 -1 -1 -1 -1 -1 -1 -1 -1 -1 -1 -1 -1\n",
      " -1 -1 -1 -1 -1 -1 -1 -1 -1 -1 -1 -1 -1 -1 -1 -1 -1 -1 -1 -1 -1 -1 -1 -1\n",
      " -1 -1 -1 -1 -1 -1 -1 -1 -1 -1 -1 -1 -1 -1 -1 -1]\n",
      "Sample Test after adding noise:  [-1 -1 -1  1 -1 -1 -1  1 -1 -1 -1 -1 -1  1  1 -1 -1  1 -1  1 -1 -1 -1 -1\n",
      " -1  1  1  1  1  1  1 -1 -1 -1  1  1 -1 -1 -1 -1  1  1 -1 -1 -1  1 -1 -1\n",
      " -1  1 -1 -1  1 -1 -1  1 -1 -1  1 -1 -1 -1 -1 -1 -1 -1 -1  1 -1 -1 -1 -1\n",
      " -1 -1 -1 -1 -1 -1 -1 -1  1  1 -1 -1 -1 -1 -1 -1 -1  1 -1 -1  1  1 -1  1\n",
      "  1 -1 -1 -1 -1 -1 -1  1 -1 -1 -1 -1 -1 -1 -1 -1  1  1 -1 -1 -1 -1  1 -1\n",
      "  1 -1 -1  1 -1 -1 -1 -1  1 -1 -1 -1  1 -1 -1 -1 -1  1 -1 -1 -1 -1 -1  1\n",
      " -1 -1 -1 -1 -1 -1 -1 -1 -1  1 -1 -1 -1 -1 -1  1 -1 -1 -1  1  1  1  1 -1\n",
      " -1 -1 -1 -1  1 -1 -1  1 -1  1  1 -1  1 -1  1 -1 -1  1 -1  1 -1 -1 -1  1\n",
      " -1 -1  1  1  1 -1 -1  1 -1 -1 -1 -1 -1  1 -1  1  1  1 -1 -1 -1 -1 -1 -1\n",
      " -1 -1 -1 -1 -1 -1 -1 -1 -1  1 -1 -1 -1 -1  1 -1 -1 -1  1 -1  1 -1  1 -1\n",
      " -1 -1  1 -1 -1 -1 -1  1 -1 -1 -1 -1 -1 -1 -1 -1 -1  1 -1 -1 -1  1 -1 -1\n",
      " -1 -1  1 -1  1  1 -1 -1 -1 -1  1 -1 -1 -1  1 -1  1 -1 -1 -1 -1  1 -1 -1\n",
      " -1 -1  1  1  1 -1 -1  1 -1 -1  1 -1  1 -1 -1  1  1  1  1 -1 -1 -1 -1 -1\n",
      " -1 -1 -1  1  1  1 -1  1 -1  1  1  1  1 -1 -1  1 -1  1 -1 -1  1  1  1  1\n",
      " -1  1  1 -1 -1 -1  1  1  1  1  1  1 -1  1  1 -1 -1  1  1  1  1  1 -1  1\n",
      "  1  1  1 -1 -1  1  1  1  1  1 -1 -1  1 -1 -1 -1 -1  1  1  1 -1  1 -1  1\n",
      " -1 -1 -1  1 -1 -1  1 -1 -1 -1 -1  1  1 -1  1  1  1  1  1  1 -1 -1 -1 -1\n",
      "  1  1  1  1 -1  1  1 -1  1  1 -1 -1 -1  1  1 -1  1 -1 -1  1 -1 -1 -1  1\n",
      "  1  1  1  1  1 -1  1  1  1 -1  1  1 -1 -1 -1  1 -1  1 -1 -1 -1 -1 -1 -1\n",
      "  1 -1  1 -1 -1  1 -1 -1  1 -1 -1 -1 -1 -1  1  1 -1  1 -1 -1 -1  1 -1  1\n",
      "  1 -1  1 -1 -1 -1 -1  1 -1  1  1  1  1 -1 -1 -1  1 -1 -1 -1 -1 -1  1 -1\n",
      "  1 -1 -1  1  1  1  1  1  1  1  1  1  1 -1  1 -1 -1  1 -1  1 -1  1  1 -1\n",
      " -1 -1  1  1 -1 -1 -1 -1 -1  1 -1  1 -1 -1 -1 -1 -1  1 -1 -1 -1  1 -1 -1\n",
      " -1 -1  1  1  1 -1 -1  1  1 -1  1 -1 -1  1 -1 -1  1 -1 -1  1  1  1  1  1\n",
      " -1 -1  1 -1 -1 -1 -1 -1  1 -1 -1 -1 -1 -1 -1 -1 -1  1 -1 -1 -1 -1  1 -1\n",
      " -1 -1 -1 -1 -1  1  1 -1 -1 -1  1 -1 -1  1 -1 -1 -1 -1 -1 -1 -1  1 -1 -1\n",
      " -1 -1  1  1 -1  1 -1 -1  1 -1  1 -1  1 -1 -1 -1 -1 -1  1 -1 -1 -1  1  1\n",
      " -1 -1 -1 -1  1 -1  1 -1  1 -1  1 -1 -1 -1  1  1  1 -1 -1  1 -1  1  1  1\n",
      " -1  1 -1 -1 -1  1 -1 -1 -1 -1 -1 -1  1 -1 -1 -1 -1  1 -1  1  1 -1 -1  1\n",
      " -1  1 -1  1 -1 -1  1  1 -1 -1 -1  1 -1 -1 -1 -1 -1 -1 -1 -1 -1 -1  1  1\n",
      "  1 -1  1 -1 -1  1  1  1 -1 -1 -1 -1 -1  1 -1 -1 -1  1  1 -1 -1  1 -1 -1\n",
      " -1 -1  1  1 -1 -1 -1  1  1 -1 -1 -1 -1 -1 -1  1 -1 -1 -1 -1 -1 -1 -1 -1\n",
      " -1 -1  1  1 -1 -1 -1 -1 -1 -1 -1 -1  1 -1  1  1]\n"
     ]
    }
   ],
   "source": [
    "sample_test = stored_patterns_binary[0]\n",
    "sample_test_noisy = add_noise(sample_test, noise_level=0.3)\n",
    "print(\"Sample Test: \", sample_test)\n",
    "print(\"Sample Test after adding noise: \", sample_test_noisy)"
   ]
  },
  {
   "cell_type": "code",
   "execution_count": 67,
   "metadata": {},
   "outputs": [
    {
     "name": "stdout",
     "output_type": "stream",
     "text": [
      "[0.9132653061224489, 0.1913265306122449, 0.5153061224489796, 0.5816326530612245, 0.4489795918367347]\n",
      "1.0\n",
      "0.9132653061224489\n"
     ]
    }
   ],
   "source": [
    "from utils.metrics import similarity\n",
    "retrieved_state, closest_state = hopfield_network.retrieve(sample_test_noisy, synchrous=True, n_iterations=100) # synchrous iterations converge quicker than asynchrous\n",
    "print(similarity(closest_state, sample_test))\n",
    "print(similarity(retrieved_state, sample_test))\n"
   ]
  },
  {
   "cell_type": "code",
   "execution_count": 68,
   "metadata": {},
   "outputs": [
    {
     "data": {
      "image/png": "[encoded data removed]",
      "text/plain": [
       "<Figure size 800x400 with 2 Axes>"
      ]
     },
     "metadata": {},
     "output_type": "display_data"
    }
   ],
   "source": [
    "import matplotlib.pyplot as plt\n",
    "\n",
    "# reshape states to 28x28\n",
    "img_retrieved = retrieved_state.reshape(28, 28)\n",
    "img_original = closest_state.reshape(28, 28)\n",
    "\n",
    "# create a figure with 1 row and 2 columns\n",
    "fig, axes = plt.subplots(1, 2, figsize=(8, 4))\n",
    "\n",
    "# left: retrieved pattern\n",
    "axes[0].imshow(img_retrieved, cmap='gray', vmin=-1, vmax=1)\n",
    "axes[0].set_title(\"Retrieved\")\n",
    "axes[0].axis('off')\n",
    "\n",
    "# right: closest stored pattern\n",
    "axes[1].imshow(img_original, cmap='gray', vmin=-1, vmax=1)\n",
    "axes[1].set_title(\"Original\")\n",
    "axes[1].axis('off')\n",
    "\n",
    "plt.show()"
   ]
  }
 ],
 "metadata": {
  "kernelspec": {
   "display_name": "Python 3",
   "language": "python",
   "name": "python3"
  },
  "language_info": {
   "codemirror_mode": {
    "name": "ipython",
    "version": 3
   },
   "file_extension": ".py",
   "mimetype": "text/x-python",
   "name": "python",
   "nbconvert_exporter": "python",
   "pygments_lexer": "ipython3",
   "version": "3.12.7"
  },
  "orig_nbformat": 4
 },
 "nbformat": 4,
 "nbformat_minor": 2
}
